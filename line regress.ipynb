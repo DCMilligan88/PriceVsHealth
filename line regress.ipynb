{
 "cells": [
  {
   "cell_type": "code",
   "execution_count": 1,
   "metadata": {},
   "outputs": [],
   "source": [
    "from matplotlib import pyplot as plt\n",
    "from scipy import stats as st\n",
    "import numpy as np\n",
    "import pandas as pd"
   ]
  },
  {
   "cell_type": "code",
   "execution_count": 2,
   "metadata": {},
   "outputs": [],
   "source": [
    "inspection_df = pd.read_csv('Insp_Comb_clean.csv')"
   ]
  },
  {
   "cell_type": "code",
   "execution_count": 3,
   "metadata": {},
   "outputs": [],
   "source": [
    "for index, row in inspection_df.iterrows():\n",
    "    if inspection_df.loc[index, 'price'] == 'cheap':\n",
    "        inspection_df.loc[index, 'price'] = '1'\n",
    "        \n",
    "    elif inspection_df.loc[index, 'price'] == 'Expensive':\n",
    "        inspection_df.loc[index, 'price'] = '3'\n",
    "        \n",
    "    elif inspection_df.loc[index, 'price'] == 'Mid':\n",
    "        inspection_df.loc[index, 'price'] = '2'"
   ]
  },
  {
   "cell_type": "code",
   "execution_count": 4,
   "metadata": {},
   "outputs": [
    {
     "data": {
      "text/html": [
       "<div>\n",
       "<style scoped>\n",
       "    .dataframe tbody tr th:only-of-type {\n",
       "        vertical-align: middle;\n",
       "    }\n",
       "\n",
       "    .dataframe tbody tr th {\n",
       "        vertical-align: top;\n",
       "    }\n",
       "\n",
       "    .dataframe thead th {\n",
       "        text-align: right;\n",
       "    }\n",
       "</style>\n",
       "<table border=\"1\" class=\"dataframe\">\n",
       "  <thead>\n",
       "    <tr style=\"text-align: right;\">\n",
       "      <th></th>\n",
       "      <th>Name</th>\n",
       "      <th>Score</th>\n",
       "      <th>Address</th>\n",
       "      <th>City</th>\n",
       "      <th>Zip</th>\n",
       "      <th>Rating</th>\n",
       "      <th>Review Count</th>\n",
       "      <th>Yelp Name</th>\n",
       "      <th>price</th>\n",
       "    </tr>\n",
       "  </thead>\n",
       "  <tbody>\n",
       "    <tr>\n",
       "      <th>0</th>\n",
       "      <td>108 Bar N Grill</td>\n",
       "      <td>98.750000</td>\n",
       "      <td>10845 NE Halsey St</td>\n",
       "      <td>Portland</td>\n",
       "      <td>97220</td>\n",
       "      <td>4.0</td>\n",
       "      <td>34</td>\n",
       "      <td>108 Bar N Grill</td>\n",
       "      <td>1</td>\n",
       "    </tr>\n",
       "    <tr>\n",
       "      <th>1</th>\n",
       "      <td>S'Mores Bar</td>\n",
       "      <td>82.000000</td>\n",
       "      <td>1126 SW Alder St</td>\n",
       "      <td>Portland</td>\n",
       "      <td>97205</td>\n",
       "      <td>4.5</td>\n",
       "      <td>96</td>\n",
       "      <td>1927 S'mores Company</td>\n",
       "      <td>1</td>\n",
       "    </tr>\n",
       "    <tr>\n",
       "      <th>2</th>\n",
       "      <td>Taste of Excellence</td>\n",
       "      <td>100.000000</td>\n",
       "      <td>1132 SW 19th Ave 101</td>\n",
       "      <td>Portland</td>\n",
       "      <td>97205</td>\n",
       "      <td>4.5</td>\n",
       "      <td>96</td>\n",
       "      <td>1927 S'mores Company</td>\n",
       "      <td>1</td>\n",
       "    </tr>\n",
       "    <tr>\n",
       "      <th>3</th>\n",
       "      <td>21st Century Pizza</td>\n",
       "      <td>98.000000</td>\n",
       "      <td>1221 SW Jefferson St</td>\n",
       "      <td>Portland</td>\n",
       "      <td>97201</td>\n",
       "      <td>4.0</td>\n",
       "      <td>158</td>\n",
       "      <td>21st Century Pizza</td>\n",
       "      <td>1</td>\n",
       "    </tr>\n",
       "    <tr>\n",
       "      <th>4</th>\n",
       "      <td>22 Below,</td>\n",
       "      <td>94.500000</td>\n",
       "      <td>1728 SW Jefferson St</td>\n",
       "      <td>Portland</td>\n",
       "      <td>97201</td>\n",
       "      <td>4.0</td>\n",
       "      <td>113</td>\n",
       "      <td>22 Below</td>\n",
       "      <td>1</td>\n",
       "    </tr>\n",
       "    <tr>\n",
       "      <th>...</th>\n",
       "      <td>...</td>\n",
       "      <td>...</td>\n",
       "      <td>...</td>\n",
       "      <td>...</td>\n",
       "      <td>...</td>\n",
       "      <td>...</td>\n",
       "      <td>...</td>\n",
       "      <td>...</td>\n",
       "      <td>...</td>\n",
       "    </tr>\n",
       "    <tr>\n",
       "      <th>2090</th>\n",
       "      <td>Morton's Steak House</td>\n",
       "      <td>94.000000</td>\n",
       "      <td>213 SW Clay St</td>\n",
       "      <td>Portland</td>\n",
       "      <td>97201</td>\n",
       "      <td>4.0</td>\n",
       "      <td>278</td>\n",
       "      <td>Morton's The Steakhouse</td>\n",
       "      <td>3</td>\n",
       "    </tr>\n",
       "    <tr>\n",
       "      <th>2091</th>\n",
       "      <td>Nodoguro</td>\n",
       "      <td>98.500000</td>\n",
       "      <td>2832 SE Belmont St</td>\n",
       "      <td>Portland</td>\n",
       "      <td>97214</td>\n",
       "      <td>5.0</td>\n",
       "      <td>82</td>\n",
       "      <td>Nodoguro</td>\n",
       "      <td>3</td>\n",
       "    </tr>\n",
       "    <tr>\n",
       "      <th>2092</th>\n",
       "      <td>Nomad Restaurant</td>\n",
       "      <td>89.500000</td>\n",
       "      <td>575 NE 24th Ave</td>\n",
       "      <td>Portland</td>\n",
       "      <td>97232</td>\n",
       "      <td>4.5</td>\n",
       "      <td>164</td>\n",
       "      <td>Nomad PDX</td>\n",
       "      <td>3</td>\n",
       "    </tr>\n",
       "    <tr>\n",
       "      <th>2093</th>\n",
       "      <td>Roe</td>\n",
       "      <td>86.333333</td>\n",
       "      <td>515 SW Broadway Suite 100</td>\n",
       "      <td>Portland</td>\n",
       "      <td>97205</td>\n",
       "      <td>4.5</td>\n",
       "      <td>218</td>\n",
       "      <td>Roe</td>\n",
       "      <td>3</td>\n",
       "    </tr>\n",
       "    <tr>\n",
       "      <th>2094</th>\n",
       "      <td>Willow Restaurant</td>\n",
       "      <td>94.500000</td>\n",
       "      <td>2005 SE 11th Ave</td>\n",
       "      <td>Portland</td>\n",
       "      <td>97214</td>\n",
       "      <td>5.0</td>\n",
       "      <td>201</td>\n",
       "      <td>Willow</td>\n",
       "      <td>3</td>\n",
       "    </tr>\n",
       "  </tbody>\n",
       "</table>\n",
       "<p>2095 rows × 9 columns</p>\n",
       "</div>"
      ],
      "text/plain": [
       "                      Name       Score                    Address      City  \\\n",
       "0          108 Bar N Grill   98.750000         10845 NE Halsey St  Portland   \n",
       "1              S'Mores Bar   82.000000           1126 SW Alder St  Portland   \n",
       "2      Taste of Excellence  100.000000       1132 SW 19th Ave 101  Portland   \n",
       "3       21st Century Pizza   98.000000       1221 SW Jefferson St  Portland   \n",
       "4                22 Below,   94.500000       1728 SW Jefferson St  Portland   \n",
       "...                    ...         ...                        ...       ...   \n",
       "2090  Morton's Steak House   94.000000             213 SW Clay St  Portland   \n",
       "2091              Nodoguro   98.500000         2832 SE Belmont St  Portland   \n",
       "2092      Nomad Restaurant   89.500000            575 NE 24th Ave  Portland   \n",
       "2093                   Roe   86.333333  515 SW Broadway Suite 100  Portland   \n",
       "2094     Willow Restaurant   94.500000           2005 SE 11th Ave  Portland   \n",
       "\n",
       "        Zip  Rating  Review Count                Yelp Name price  \n",
       "0     97220     4.0            34          108 Bar N Grill     1  \n",
       "1     97205     4.5            96     1927 S'mores Company     1  \n",
       "2     97205     4.5            96     1927 S'mores Company     1  \n",
       "3     97201     4.0           158       21st Century Pizza     1  \n",
       "4     97201     4.0           113                 22 Below     1  \n",
       "...     ...     ...           ...                      ...   ...  \n",
       "2090  97201     4.0           278  Morton's The Steakhouse     3  \n",
       "2091  97214     5.0            82                 Nodoguro     3  \n",
       "2092  97232     4.5           164                Nomad PDX     3  \n",
       "2093  97205     4.5           218                      Roe     3  \n",
       "2094  97214     5.0           201                   Willow     3  \n",
       "\n",
       "[2095 rows x 9 columns]"
      ]
     },
     "execution_count": 4,
     "metadata": {},
     "output_type": "execute_result"
    }
   ],
   "source": [
    "inspection_df"
   ]
  },
  {
   "cell_type": "code",
   "execution_count": 5,
   "metadata": {
    "scrolled": true
   },
   "outputs": [
    {
     "ename": "TypeError",
     "evalue": "unsupported operand type(s) for /: 'str' and 'int'",
     "output_type": "error",
     "traceback": [
      "\u001b[1;31m---------------------------------------------------------------------------\u001b[0m",
      "\u001b[1;31mTypeError\u001b[0m                                 Traceback (most recent call last)",
      "\u001b[1;32m<ipython-input-5-677ab34ddea9>\u001b[0m in \u001b[0;36m<module>\u001b[1;34m\u001b[0m\n\u001b[0;32m      1\u001b[0m \u001b[0mx_values\u001b[0m \u001b[1;33m=\u001b[0m \u001b[0minspection_df\u001b[0m\u001b[1;33m[\u001b[0m\u001b[1;34m'price'\u001b[0m\u001b[1;33m]\u001b[0m\u001b[1;33m\u001b[0m\u001b[1;33m\u001b[0m\u001b[0m\n\u001b[0;32m      2\u001b[0m \u001b[0my_values\u001b[0m \u001b[1;33m=\u001b[0m \u001b[0minspection_df\u001b[0m\u001b[1;33m[\u001b[0m\u001b[1;34m'Score'\u001b[0m\u001b[1;33m]\u001b[0m\u001b[1;33m\u001b[0m\u001b[1;33m\u001b[0m\u001b[0m\n\u001b[1;32m----> 3\u001b[1;33m \u001b[1;33m(\u001b[0m\u001b[0mslope\u001b[0m\u001b[1;33m,\u001b[0m \u001b[0mintercept\u001b[0m\u001b[1;33m,\u001b[0m \u001b[0mrvalue\u001b[0m\u001b[1;33m,\u001b[0m \u001b[0mpvalue\u001b[0m\u001b[1;33m,\u001b[0m \u001b[0mstderr\u001b[0m\u001b[1;33m)\u001b[0m \u001b[1;33m=\u001b[0m \u001b[0mst\u001b[0m\u001b[1;33m.\u001b[0m\u001b[0mlinregress\u001b[0m\u001b[1;33m(\u001b[0m\u001b[0mx_values\u001b[0m\u001b[1;33m,\u001b[0m \u001b[0my_values\u001b[0m\u001b[1;33m)\u001b[0m\u001b[1;33m\u001b[0m\u001b[1;33m\u001b[0m\u001b[0m\n\u001b[0m\u001b[0;32m      4\u001b[0m \u001b[0mpr\u001b[0m \u001b[1;33m=\u001b[0m \u001b[0mst\u001b[0m\u001b[1;33m.\u001b[0m\u001b[0mpearsonr\u001b[0m\u001b[1;33m(\u001b[0m\u001b[0mx_values\u001b[0m\u001b[1;33m,\u001b[0m \u001b[0my_values\u001b[0m\u001b[1;33m)\u001b[0m\u001b[1;33m[\u001b[0m\u001b[1;36m0\u001b[0m\u001b[1;33m]\u001b[0m\u001b[1;33m\u001b[0m\u001b[1;33m\u001b[0m\u001b[0m\n\u001b[0;32m      5\u001b[0m \u001b[0mrv2\u001b[0m \u001b[1;33m=\u001b[0m \u001b[0mrvalue\u001b[0m \u001b[1;33m**\u001b[0m \u001b[1;36m2\u001b[0m\u001b[1;33m\u001b[0m\u001b[1;33m\u001b[0m\u001b[0m\n",
      "\u001b[1;32mc:\\users\\dcmil\\anaconda3\\envs\\pythondata\\lib\\site-packages\\scipy\\stats\\_stats_mstats_common.py\u001b[0m in \u001b[0;36mlinregress\u001b[1;34m(x, y)\u001b[0m\n\u001b[0;32m    110\u001b[0m \u001b[1;33m\u001b[0m\u001b[0m\n\u001b[0;32m    111\u001b[0m     \u001b[0mn\u001b[0m \u001b[1;33m=\u001b[0m \u001b[0mlen\u001b[0m\u001b[1;33m(\u001b[0m\u001b[0mx\u001b[0m\u001b[1;33m)\u001b[0m\u001b[1;33m\u001b[0m\u001b[1;33m\u001b[0m\u001b[0m\n\u001b[1;32m--> 112\u001b[1;33m     \u001b[0mxmean\u001b[0m \u001b[1;33m=\u001b[0m \u001b[0mnp\u001b[0m\u001b[1;33m.\u001b[0m\u001b[0mmean\u001b[0m\u001b[1;33m(\u001b[0m\u001b[0mx\u001b[0m\u001b[1;33m,\u001b[0m \u001b[1;32mNone\u001b[0m\u001b[1;33m)\u001b[0m\u001b[1;33m\u001b[0m\u001b[1;33m\u001b[0m\u001b[0m\n\u001b[0m\u001b[0;32m    113\u001b[0m     \u001b[0mymean\u001b[0m \u001b[1;33m=\u001b[0m \u001b[0mnp\u001b[0m\u001b[1;33m.\u001b[0m\u001b[0mmean\u001b[0m\u001b[1;33m(\u001b[0m\u001b[0my\u001b[0m\u001b[1;33m,\u001b[0m \u001b[1;32mNone\u001b[0m\u001b[1;33m)\u001b[0m\u001b[1;33m\u001b[0m\u001b[1;33m\u001b[0m\u001b[0m\n\u001b[0;32m    114\u001b[0m \u001b[1;33m\u001b[0m\u001b[0m\n",
      "\u001b[1;32m<__array_function__ internals>\u001b[0m in \u001b[0;36mmean\u001b[1;34m(*args, **kwargs)\u001b[0m\n",
      "\u001b[1;32mc:\\users\\dcmil\\anaconda3\\envs\\pythondata\\lib\\site-packages\\numpy\\core\\fromnumeric.py\u001b[0m in \u001b[0;36mmean\u001b[1;34m(a, axis, dtype, out, keepdims)\u001b[0m\n\u001b[0;32m   3255\u001b[0m \u001b[1;33m\u001b[0m\u001b[0m\n\u001b[0;32m   3256\u001b[0m     return _methods._mean(a, axis=axis, dtype=dtype,\n\u001b[1;32m-> 3257\u001b[1;33m                           out=out, **kwargs)\n\u001b[0m\u001b[0;32m   3258\u001b[0m \u001b[1;33m\u001b[0m\u001b[0m\n\u001b[0;32m   3259\u001b[0m \u001b[1;33m\u001b[0m\u001b[0m\n",
      "\u001b[1;32mc:\\users\\dcmil\\anaconda3\\envs\\pythondata\\lib\\site-packages\\numpy\\core\\_methods.py\u001b[0m in \u001b[0;36m_mean\u001b[1;34m(a, axis, dtype, out, keepdims)\u001b[0m\n\u001b[0;32m    161\u001b[0m             \u001b[0mret\u001b[0m \u001b[1;33m=\u001b[0m \u001b[0mret\u001b[0m\u001b[1;33m.\u001b[0m\u001b[0mdtype\u001b[0m\u001b[1;33m.\u001b[0m\u001b[0mtype\u001b[0m\u001b[1;33m(\u001b[0m\u001b[0mret\u001b[0m \u001b[1;33m/\u001b[0m \u001b[0mrcount\u001b[0m\u001b[1;33m)\u001b[0m\u001b[1;33m\u001b[0m\u001b[1;33m\u001b[0m\u001b[0m\n\u001b[0;32m    162\u001b[0m     \u001b[1;32melse\u001b[0m\u001b[1;33m:\u001b[0m\u001b[1;33m\u001b[0m\u001b[1;33m\u001b[0m\u001b[0m\n\u001b[1;32m--> 163\u001b[1;33m         \u001b[0mret\u001b[0m \u001b[1;33m=\u001b[0m \u001b[0mret\u001b[0m \u001b[1;33m/\u001b[0m \u001b[0mrcount\u001b[0m\u001b[1;33m\u001b[0m\u001b[1;33m\u001b[0m\u001b[0m\n\u001b[0m\u001b[0;32m    164\u001b[0m \u001b[1;33m\u001b[0m\u001b[0m\n\u001b[0;32m    165\u001b[0m     \u001b[1;32mreturn\u001b[0m \u001b[0mret\u001b[0m\u001b[1;33m\u001b[0m\u001b[1;33m\u001b[0m\u001b[0m\n",
      "\u001b[1;31mTypeError\u001b[0m: unsupported operand type(s) for /: 'str' and 'int'"
     ]
    }
   ],
   "source": [
    "x_values = inspection_df['price']\n",
    "y_values = inspection_df['Score']\n",
    "(slope, intercept, rvalue, pvalue, stderr) = st.linregress(x_values, y_values)\n",
    "pr = st.pearsonr(x_values, y_values)[0]\n",
    "rv2 = rvalue ** 2\n",
    "print(f'The Corelation Coefficient between price and rating is {pr}')\n",
    "print(f'The R-Squared value is {rv2}')\n",
    "plt.scatter(x_values, y_values)\n",
    "plt.title('Price Point($) vs Inspection Rating')\n",
    "plt.xlabel('Price Point ($ rating on yelp)')\n",
    "plt.ylabel('Inspection Rating')"
   ]
  },
  {
   "cell_type": "code",
   "execution_count": 7,
   "metadata": {},
   "outputs": [
    {
     "data": {
      "text/plain": [
       "Text(0.5, 1.0, 'Inspection Score Distribution')"
      ]
     },
     "execution_count": 7,
     "metadata": {},
     "output_type": "execute_result"
    },
    {
     "data": {
      "image/png": "[encoded data removed]",
      "text/plain": [
       "<Figure size 432x288 with 1 Axes>"
      ]
     },
     "metadata": {
      "needs_background": "light"
     },
     "output_type": "display_data"
    }
   ],
   "source": [
    "#plt.bar(y_values, len(inspection_df))\n",
    "inspection_bar = inspection_df.groupby('Score').count()\n",
    "inspection_bar = inspection_bar.reset_index()\n",
    "x = inspection_bar['Score']\n",
    "y = inspection_bar['Name']\n",
    "plt.bar(x,y, color='red')\n",
    "plt.xlabel('Inspection Score')\n",
    "plt.ylabel('# of Restaurants')\n",
    "plt.title('Inspection Score Distribution')"
   ]
  },
  {
   "cell_type": "code",
   "execution_count": 10,
   "metadata": {},
   "outputs": [
    {
     "data": {
      "text/plain": [
       "Text(0.5, 1.0, 'Price Rating Distribution')"
      ]
     },
     "execution_count": 10,
     "metadata": {},
     "output_type": "execute_result"
    },
    {
     "data": {
      "image/png": "[encoded data removed]",
      "text/plain": [
       "<Figure size 432x288 with 1 Axes>"
      ]
     },
     "metadata": {
      "needs_background": "light"
     },
     "output_type": "display_data"
    }
   ],
   "source": [
    "inspection_bar = inspection_df.groupby('price').count()\n",
    "inspection_bar = inspection_bar.reset_index()\n",
    "x = inspection_bar['price']\n",
    "y = inspection_bar['Name']\n",
    "plt.bar(x,y)\n",
    "plt.xlabel('Price Rating')\n",
    "plt.ylabel('Count')\n",
    "plt.title('Price Rating Distribution')\n"
   ]
  },
  {
   "cell_type": "code",
   "execution_count": null,
   "metadata": {},
   "outputs": [],
   "source": []
  }
 ],
 "metadata": {
  "kernelspec": {
   "display_name": "Python 3",
   "language": "python",
   "name": "python3"
  },
  "language_info": {
   "codemirror_mode": {
    "name": "ipython",
    "version": 3
   },
   "file_extension": ".py",
   "mimetype": "text/x-python",
   "name": "python",
   "nbconvert_exporter": "python",
   "pygments_lexer": "ipython3",
   "version": "3.7.5"
  }
 },
 "nbformat": 4,
 "nbformat_minor": 4
}
