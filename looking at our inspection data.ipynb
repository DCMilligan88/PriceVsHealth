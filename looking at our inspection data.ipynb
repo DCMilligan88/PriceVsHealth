{
 "cells": [
  {
   "cell_type": "code",
   "execution_count": 1,
   "metadata": {},
   "outputs": [],
   "source": [
    "import pandas as pd"
   ]
  },
  {
   "cell_type": "code",
   "execution_count": 3,
   "metadata": {},
   "outputs": [
    {
     "data": {
      "text/plain": [
       "Index(['Type11', 'BillingType', 'Name', 'PhysicalAddress', 'PhysicalCity',\n",
       "       'PhysicalPostalCode1', 'OwnersName', 'InspectionDate1', 'Type1',\n",
       "       'TotHRPriority', 'InspectionOutcome'],\n",
       "      dtype='object')"
      ]
     },
     "execution_count": 3,
     "metadata": {},
     "output_type": "execute_result"
    }
   ],
   "source": [
    "inspections2020_df = pd.read_csv('2020_Inspections.csv')\n",
    "inspections2020_df.columns"
   ]
  },
  {
   "cell_type": "code",
   "execution_count": 11,
   "metadata": {},
   "outputs": [
    {
     "data": {
      "text/html": [
       "<div>\n",
       "<style scoped>\n",
       "    .dataframe tbody tr th:only-of-type {\n",
       "        vertical-align: middle;\n",
       "    }\n",
       "\n",
       "    .dataframe tbody tr th {\n",
       "        vertical-align: top;\n",
       "    }\n",
       "\n",
       "    .dataframe thead th {\n",
       "        text-align: right;\n",
       "    }\n",
       "</style>\n",
       "<table border=\"1\" class=\"dataframe\">\n",
       "  <thead>\n",
       "    <tr style=\"text-align: right;\">\n",
       "      <th></th>\n",
       "      <th>PhysicalPostalCode1</th>\n",
       "      <th>TotHRPriority</th>\n",
       "    </tr>\n",
       "    <tr>\n",
       "      <th>Name</th>\n",
       "      <th></th>\n",
       "      <th></th>\n",
       "    </tr>\n",
       "  </thead>\n",
       "  <tbody>\n",
       "    <tr>\n",
       "      <th>10 Barrel Brewing Company</th>\n",
       "      <td>97209.0</td>\n",
       "      <td>95.500000</td>\n",
       "    </tr>\n",
       "    <tr>\n",
       "      <th>108 Bar N Grill</th>\n",
       "      <td>97220.0</td>\n",
       "      <td>98.750000</td>\n",
       "    </tr>\n",
       "    <tr>\n",
       "      <th>13 Virtues</th>\n",
       "      <td>97202.0</td>\n",
       "      <td>91.000000</td>\n",
       "    </tr>\n",
       "    <tr>\n",
       "      <th>15th Avenue Hophouse</th>\n",
       "      <td>97212.0</td>\n",
       "      <td>98.500000</td>\n",
       "    </tr>\n",
       "    <tr>\n",
       "      <th>1st United Methodist</th>\n",
       "      <td>97201.0</td>\n",
       "      <td>100.000000</td>\n",
       "    </tr>\n",
       "    <tr>\n",
       "      <th>...</th>\n",
       "      <td>...</td>\n",
       "      <td>...</td>\n",
       "    </tr>\n",
       "    <tr>\n",
       "      <th>Zilla Sake</th>\n",
       "      <td>97211.0</td>\n",
       "      <td>97.000000</td>\n",
       "    </tr>\n",
       "    <tr>\n",
       "      <th>Zoiglhaus Brewing Company</th>\n",
       "      <td>97266.0</td>\n",
       "      <td>86.666667</td>\n",
       "    </tr>\n",
       "    <tr>\n",
       "      <th>Zoo AfriCafe-Rhino Hut-Elephant Ears-Kalahari Kitc</th>\n",
       "      <td>97221.0</td>\n",
       "      <td>97.000000</td>\n",
       "    </tr>\n",
       "    <tr>\n",
       "      <th>Zoo Cascade Grill-Cascade to go - Banquet Kitchen</th>\n",
       "      <td>97221.0</td>\n",
       "      <td>98.500000</td>\n",
       "    </tr>\n",
       "    <tr>\n",
       "      <th>Zuppa</th>\n",
       "      <td>97209.0</td>\n",
       "      <td>97.500000</td>\n",
       "    </tr>\n",
       "  </tbody>\n",
       "</table>\n",
       "<p>3186 rows × 2 columns</p>\n",
       "</div>"
      ],
      "text/plain": [
       "                                                    PhysicalPostalCode1  \\\n",
       "Name                                                                      \n",
       "10 Barrel Brewing Company                                       97209.0   \n",
       "108 Bar N Grill                                                 97220.0   \n",
       "13 Virtues                                                      97202.0   \n",
       "15th Avenue Hophouse                                            97212.0   \n",
       "1st United Methodist                                            97201.0   \n",
       "...                                                                 ...   \n",
       "Zilla Sake                                                      97211.0   \n",
       "Zoiglhaus Brewing Company                                       97266.0   \n",
       "Zoo AfriCafe-Rhino Hut-Elephant Ears-Kalahari Kitc              97221.0   \n",
       "Zoo Cascade Grill-Cascade to go - Banquet Kitchen               97221.0   \n",
       "Zuppa                                                           97209.0   \n",
       "\n",
       "                                                    TotHRPriority  \n",
       "Name                                                               \n",
       "10 Barrel Brewing Company                               95.500000  \n",
       "108 Bar N Grill                                         98.750000  \n",
       "13 Virtues                                              91.000000  \n",
       "15th Avenue Hophouse                                    98.500000  \n",
       "1st United Methodist                                   100.000000  \n",
       "...                                                           ...  \n",
       "Zilla Sake                                              97.000000  \n",
       "Zoiglhaus Brewing Company                               86.666667  \n",
       "Zoo AfriCafe-Rhino Hut-Elephant Ears-Kalahari Kitc      97.000000  \n",
       "Zoo Cascade Grill-Cascade to go - Banquet Kitchen       98.500000  \n",
       "Zuppa                                                   97.500000  \n",
       "\n",
       "[3186 rows x 2 columns]"
      ]
     },
     "execution_count": 11,
     "metadata": {},
     "output_type": "execute_result"
    }
   ],
   "source": [
    "inspections2020_df.groupby('Name').mean()"
   ]
  },
  {
   "cell_type": "code",
   "execution_count": null,
   "metadata": {},
   "outputs": [],
   "source": [
    "25"
   ]
  }
 ],
 "metadata": {
  "kernelspec": {
   "display_name": "Python 3",
   "language": "python",
   "name": "python3"
  },
  "language_info": {
   "codemirror_mode": {
    "name": "ipython",
    "version": 3
   },
   "file_extension": ".py",
   "mimetype": "text/x-python",
   "name": "python",
   "nbconvert_exporter": "python",
   "pygments_lexer": "ipython3",
   "version": "3.7.5"
  }
 },
 "nbformat": 4,
 "nbformat_minor": 4
}
